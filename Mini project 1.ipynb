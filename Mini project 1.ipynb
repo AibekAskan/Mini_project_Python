{
 "cells": [
  {
   "cell_type": "markdown",
   "id": "74b5d472",
   "metadata": {},
   "source": [
    "# Мини проект 1"
   ]
  },
  {
   "cell_type": "markdown",
   "id": "cc4f6ca8",
   "metadata": {},
   "source": [
    "Вам дан файл users.txt. Вы должны сделать следующие действия:\n",
    "\n",
    "1) Прочитать этот файл построчно. Пожалуйста, используйте для этого try catch. Если файл не найден, напечатайте следующий текст: «the file that you would like to read is not found». Для любых других ошибок, пожалуйста, напечатайте следующее сообщение: \"some error occured\"\n",
    "     \n",
    "     \n",
    "2) Создайте класс Users со следующими атрибутами и функциями:\n",
    "\n",
    "     a) имя\n",
    "     \n",
    "     b) фамилия\n",
    "     \n",
    "     c) год рождения\n",
    "     \n",
    "     d) адрес электронной почты\n",
    "     \n",
    "     e) getAge(): возвращает возраст пользователя, принимая во внимание, что текущий год 2023\n",
    "     \n",
    "     \n",
    "3) преобразовать каждую строку файла в объект класса Users и сохранить их все в списке. Чтобы разделить слова, разделенные запятой, используйте функцию split(). Например, если: s = \"a,b,c\", тогда t = s.split(',') вернет ['a', 'b', 'c']. Таким образом разделите данные в каждой строке на отдельные части и присвойте эти значения атрибутам класса «Users».\n",
    "\n",
    "\n",
    "4) написать функцию filter(low, high, users), которая будет принимать параметры по умолчанию \"low\"=30, \"high\"=50 и простой параметр - список объектов класса Users. Функция должна пройтись по всем пользователям и проверить возраст с параметрами low и high. Мы должны вернуть только тех пользователей, чей возраст выше нижнего параметра low и ниже верхнего параметра high. Распечатайте их адрес электронной почты и возраст. Пожалуйста, разделите данные (адрес электронной почты и возраст) запятой. Затем вызовите эту функцию."
   ]
  },
  {
   "cell_type": "code",
   "execution_count": 148,
   "id": "ae6aa8a0-84df-4a97-b228-0f2ffeed9851",
   "metadata": {},
   "outputs": [
    {
     "name": "stdout",
     "output_type": "stream",
     "text": [
      "magzhan.kairanbay@gmail.com, 32\n",
      "john.see@gmail.com, 42\n",
      "andrey.karpathy@gmail.com, 42\n",
      "clarence.lim@gmail.com, 38\n",
      "chris.brown@gmail.com, 34\n",
      "justin.bieber@gmail.com, 31\n"
     ]
    }
   ],
   "source": [
    "class Users:\n",
    "    def __init__(self, name, surname, email, birthdate):\n",
    "        self.name = name\n",
    "        self.surname = surname\n",
    "        self.email = email\n",
    "        self.birthdate = int(birthdate)\n",
    "\n",
    "    def getAge(self):\n",
    "        return 2023 - self.birthdate\n",
    "\n",
    "\n",
    "users_list = []\n",
    "\n",
    "try:\n",
    "    with open('users.txt', 'r') as file:\n",
    "        lines = file.readlines()\n",
    "        for line in lines:\n",
    "            parts = line.strip().split(',')\n",
    "            if len(parts) == 5:\n",
    "                id, name, surname, email, birthdate = parts\n",
    "                user = Users(name, surname, email, int(birthdate))\n",
    "                users_list.append(user)\n",
    "except FileNotFoundError:\n",
    "    print('the file that you would like to read is not found')\n",
    "except Exception:\n",
    "    print('some error occured')\n",
    "\n",
    "\n",
    "def filter_users(low=30, high=50, users=[]):\n",
    "    for user in users:\n",
    "        age = user.getAge()\n",
    "        if low < age < high:\n",
    "            print(f'{user.email}, {age}')\n",
    "\n",
    "\n",
    "filter_users(users=users_list)"
   ]
  },
  {
   "cell_type": "code",
   "execution_count": null,
   "id": "b4f32b5d-b953-46f9-9d32-f0fead5b295d",
   "metadata": {},
   "outputs": [],
   "source": []
  }
 ],
 "metadata": {
  "kernelspec": {
   "display_name": "Python [conda env:base] *",
   "language": "python",
   "name": "conda-base-py"
  },
  "language_info": {
   "codemirror_mode": {
    "name": "ipython",
    "version": 3
   },
   "file_extension": ".py",
   "mimetype": "text/x-python",
   "name": "python",
   "nbconvert_exporter": "python",
   "pygments_lexer": "ipython3",
   "version": "3.12.7"
  }
 },
 "nbformat": 4,
 "nbformat_minor": 5
}
